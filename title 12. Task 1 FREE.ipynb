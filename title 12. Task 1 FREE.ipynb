{
  "cells": [
    {
      "cell_type": "markdown",
      "metadata": {
        "id": "A05OG15VqOPF"
      },
      "source": [
        "# Task : Session 1\n",
        "Solve these questions own your own and try to test yourself what you have learned in the session.\n",
        "\n",
        "Happy Learning!"
      ]
    },
    {
      "cell_type": "markdown",
      "metadata": {
        "id": "2doIXf8bqe9_"
      },
      "source": [
        "### Q1 :- Print the given strings as per stated format.\n",
        "\n",
        "**Given strings**:\n",
        "```\n",
        "\"Data\" \"Science\" \"Mentorship\" \"Program\"\n",
        "\"By\" \"CampusX\"\n",
        "```\n",
        "**Output**:\n",
        "```\n",
        "Data-Science-Mentorship-Program-started-By-CampusX\n",
        "```\n",
        "\n",
        "Concept- [Seperator and End]"
      ]
    },
    {
      "cell_type": "code",
      "execution_count": 1,
      "metadata": {
        "id": "-em6d3KErDtp"
      },
      "outputs": [
        {
          "name": "stdout",
          "output_type": "stream",
          "text": [
            "Data-Science-Mentorship-Program-started-By-CampusX\n"
          ]
        }
      ],
      "source": [
        "print('Data','Science','Mentorship','Program',sep='-',end='-started-')\n",
        "print('By','CampusX',sep='-')"
      ]
    },
    {
      "cell_type": "markdown",
      "metadata": {
        "id": "1KUpN7ZTrC3_"
      },
      "source": [
        "### Q2:- Write a program that will convert celsius value to fahrenheit."
      ]
    },
    {
      "cell_type": "code",
      "execution_count": null,
      "metadata": {},
      "outputs": [],
      "source": [
        "celsius = float(input('Enter the temp in celsius : '))\n",
        "\n",
        "faren = celsius * (9/5) + 32\n",
        "\n",
        "\n",
        "print(faren,'F')"
      ]
    },
    {
      "cell_type": "markdown",
      "metadata": {},
      "source": [
        "### Q3:- Take 2 numbers as input from the user.Write a program to swap the numbers without using any special python syntax."
      ]
    },
    {
      "cell_type": "code",
      "execution_count": null,
      "metadata": {},
      "outputs": [],
      "source": [
        "a = int(input('Enter First Number : '))\n",
        "b = int(input('Enter second Number : '))\n",
        "\n",
        "temp = a\n",
        "a = b\n",
        "b = temp\n",
        "\n",
        "print('first number ', a)\n",
        "print('second number ', b)\n"
      ]
    },
    {
      "cell_type": "markdown",
      "metadata": {
        "id": "waLCP1bjr7ML"
      },
      "source": [
        "### Q4:- Write a program to find the euclidean distance between two coordinates.Take both the coordinates from the user as input."
      ]
    },
    {
      "cell_type": "code",
      "execution_count": null,
      "metadata": {
        "id": "Pl1Sv-xnrxnH"
      },
      "outputs": [],
      "source": [
        "\n",
        "# Taking input from user\n",
        "x1 = float(input(\"Enter x1: \"))\n",
        "y1 = float(input(\"Enter y1: \"))\n",
        "x2 = float(input(\"Enter x2: \"))\n",
        "y2 = float(input(\"Enter y2: \"))\n",
        "\n",
        "# Calculating Euclidean distance\n",
        "distance = ((x2 - x1)**2 + (y2 - y1)**2)**0.5\n",
        "\n",
        "# Display the result\n",
        "print(\"Euclidean Distance between the two points:\", round(distance,2))\n"
      ]
    },
    {
      "cell_type": "markdown",
      "metadata": {
        "id": "VLrhg-FRsHjR"
      },
      "source": [
        "### Q5:- Write a program to find the simple interest when the value of principle,rate of interest and time period is provided by the user.\n"
      ]
    },
    {
      "cell_type": "code",
      "execution_count": null,
      "metadata": {
        "id": "s40DlReZsTmY"
      },
      "outputs": [],
      "source": [
        "p = int(input('Enter amount : '))\n",
        "r = float(input('Enter rate of interest : '))\n",
        "t = float(input('Enter time period : '))\n",
        "\n",
        "Interest = (p*r*t) / 100\n",
        "\n",
        "print('The interest is ',Interest)"
      ]
    },
    {
      "cell_type": "markdown",
      "metadata": {
        "id": "LMy0BTUktYKa"
      },
      "source": [
        "### Q6:- Write a program that will tell the number of dogs and chicken are there when the user will provide the value of total heads and legs.\n",
        "\n",
        "For example:\n",
        "Input:\n",
        "heads -> 4\n",
        "legs -> 12\n",
        "<br>\n",
        "Output:\n",
        "dogs -> 2\n",
        "chicken -> 2\n",
        "\n",
        "\n",
        "\n"
      ]
    },
    {
      "cell_type": "code",
      "execution_count": null,
      "metadata": {
        "id": "XSBvJoA4tXaG"
      },
      "outputs": [],
      "source": [
        "heads = int(input('Enter number of heads : '))\n",
        "legs = int(input(\"Enter number of legs : \"))\n",
        "\n",
        "if legs % 2 != 0 or legs < 2 * heads or legs > 4 * heads:\n",
        "    print('Invalid input no such combination exits')\n",
        "\n",
        "else:\n",
        "    Dogs = (legs - 2 * heads) // 2\n",
        "    chicken = heads - Dogs\n",
        "    print(\"Dogs : \",Dogs)\n",
        "    print('Chicken : ',chicken)\n",
        " "
      ]
    },
    {
      "cell_type": "markdown",
      "metadata": {
        "id": "gJ7C5kZYt4BP"
      },
      "source": [
        "### Q7:- Write a program to find the sum of squares of first n natural numbers where n will be provided by the user."
      ]
    },
    {
      "cell_type": "code",
      "execution_count": null,
      "metadata": {
        "id": "_tHsmEHzt2nX"
      },
      "outputs": [],
      "source": [
        "n = int(input(\"Enter a natural number: \"))\n",
        "\n",
        "sum_of_squares = 0\n",
        "for i in range(1, n + 1):\n",
        "    sum_of_squares += i * i\n",
        "\n",
        "print(\"Sum of squares of first\", n, \"natural numbers is:\", sum_of_squares)\n"
      ]
    },
    {
      "cell_type": "markdown",
      "metadata": {
        "id": "FHrMM7g-yG1h"
      },
      "source": [
        "### Q8:- Given the first 2 terms of an Arithmetic Series.Find the Nth term of the series. Assume all inputs are provided by the user."
      ]
    },
    {
      "cell_type": "code",
      "execution_count": null,
      "metadata": {
        "id": "go4_kmZmyVSx"
      },
      "outputs": [],
      "source": [
        "first_term = int(input('Enter 1st term : '))\n",
        "second_term = int(input('Enter 2nd term : '))\n",
        "n = int(input('Enter the value of n : '))\n",
        "\n",
        "d = second_term - first_term\n",
        "\n",
        "an = first_term + (n-1) * d\n",
        "\n",
        "print(an)"
      ]
    },
    {
      "cell_type": "markdown",
      "metadata": {
        "id": "QgyRX_es1oum"
      },
      "source": [
        "### Q9:- Given 2 fractions, find the sum of those 2 fractions.Take the numerator and denominator values of the fractions from the user."
      ]
    },
    {
      "cell_type": "code",
      "execution_count": null,
      "metadata": {
        "id": "X05xqFS1yW16"
      },
      "outputs": [],
      "source": [
        "# Write your code here\n",
        "\n",
        "n1 = int(input('Enter num1 : '))\n",
        "d1 = int(input('Enter den1 : '))\n",
        "n2 = int(input('Enter num2 : '))\n",
        "d2 = int(input('Enter den2 : '))\n",
        "\n",
        "rn = n1*d2 + n2*d1\n",
        "rd = d1*d2\n",
        "\n",
        "print('{}/{}'.format(rn,rd))"
      ]
    },
    {
      "cell_type": "markdown",
      "metadata": {
        "id": "eaql38ln13u7"
      },
      "source": [
        "### Q10:- Given the height, width and breadth of a milk tank, you have to find out how many glasses of milk can be obtained? Assume all the inputs are provided by the user.\n",
        "\n",
        "\n",
        "\n",
        "Input:<br>\n",
        "Dimensions of the milk tank<br>\n",
        "H = 20cm, L = 20cm, B = 20cm\n",
        "<br><br>\n",
        "Dimensions of the glass<br>\n",
        "h = 3cm, r = 1cm"
      ]
    },
    {
      "cell_type": "code",
      "execution_count": null,
      "metadata": {
        "id": "FePZqno74eWv"
      },
      "outputs": [],
      "source": [
        "# Write your code here\n",
        "\n",
        "import math\n",
        "\n",
        "h_t = float(input('Enter height : '))\n",
        "b_t = float(input('Enter breadth : '))\n",
        "l_t = float(input('Enter lenght : '))\n",
        "\n",
        "h_g = float(input('Height of glass : '))\n",
        "r_g = float(input('radius of the glass : '))\n",
        "\n",
        "vol_tank = h_t*b_t*l_t\n",
        "vol_glass = 3.14*r_g*r_g*h_g\n",
        "\n",
        "print('number of glass', math.floor(vol_tank/vol_glass))"
      ]
    }
  ],
  "metadata": {
    "colab": {
      "provenance": []
    },
    "kernelspec": {
      "display_name": "Python 3",
      "name": "python3"
    },
    "language_info": {
      "codemirror_mode": {
        "name": "ipython",
        "version": 3
      },
      "file_extension": ".py",
      "mimetype": "text/x-python",
      "name": "python",
      "nbconvert_exporter": "python",
      "pygments_lexer": "ipython3",
      "version": "3.13.3"
    }
  },
  "nbformat": 4,
  "nbformat_minor": 0
}
