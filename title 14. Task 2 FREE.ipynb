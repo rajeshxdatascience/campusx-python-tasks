{
  "cells": [
    {
      "cell_type": "markdown",
      "metadata": {
        "id": "w6RlOAXV2PWh"
      },
      "source": [
        "### `Problem 1`: Write a program that will give you in hand monthly salary after deduction on CTC - HRA(10%), DA(5%), PF(3%) and taxes deduction as below:\n",
        "\n",
        "> Salary(Lakhs) : Tax(%)\n",
        "\n",
        "*   Below 5 : 0%\n",
        "*   5-10 : 10%\n",
        "*   10-20 : 20%\n",
        "*   aboove 20 : 30%"
      ]
    },
    {
      "cell_type": "code",
      "execution_count": null,
      "metadata": {
        "id": "7tMHvKYO2etI"
      },
      "outputs": [],
      "source": [
        "# Write code here\n",
        "\n",
        "ctc = int(input('Enter your annual CTC : '))\n",
        "\n",
        "if ctc > 5000000:\n",
        "    salary = ctc * .82\n",
        "elif ctc < 1000000:\n",
        "    salary = ctc * .72\n",
        "elif ctc < 2000000:\n",
        "    salary = ctc * .62\n",
        "else:\n",
        "    salary = ctc * .52\n",
        "\n",
        "print('Your in hand salary will be : ', round(salary/12,2))"
      ]
    },
    {
      "cell_type": "markdown",
      "metadata": {
        "id": "tYzCGqwl2hfN"
      },
      "source": [
        "### `Problem 2`: Write a program that take a user input of three angles and will find out whether it can form a triangle or not."
      ]
    },
    {
      "cell_type": "code",
      "execution_count": null,
      "metadata": {
        "id": "FYEqln-I2kxV"
      },
      "outputs": [],
      "source": [
        "# Write code here\n",
        "\n",
        "first_angle = int(input('Enter the 1st angle : '))\n",
        "second_angle = int(input('Enter the 2nd angle : '))\n",
        "third_angle = int(input('Enter teh 3rd angle : '))\n",
        "\n",
        "if (first_angle + second_angle + third_angle) == 180 and first_angle > 0 and second_angle > 0 and third_angle > 0:\n",
        "    print('Form a traingle')\n",
        "else:\n",
        "    print('Does not form a traingle')"
      ]
    },
    {
      "cell_type": "markdown",
      "metadata": {
        "id": "5vEpPh8C2pE4"
      },
      "source": [
        "### `Problem 3`: Write a program that will take user input of cost price and selling price and determines whether its a loss or a profit."
      ]
    },
    {
      "cell_type": "code",
      "execution_count": null,
      "metadata": {
        "id": "jDwBXlkO2sfl"
      },
      "outputs": [],
      "source": [
        "# Write code here\n",
        "\n",
        "cost_price = int(input('Enter cost price : '))\n",
        "selling_price = int(input('Enter selling price : '))\n",
        "\n",
        "if cost_price < selling_price:\n",
        "    print('Profit')\n",
        "elif cost_price > selling_price:\n",
        "    print('Loss')\n",
        "else:\n",
        "    print('No loss No gain')"
      ]
    },
    {
      "cell_type": "markdown",
      "metadata": {
        "id": "J_FG_cJW2ugT"
      },
      "source": [
        "### `Problem 4`: Write a menu-driven program -\n",
        "1. cm to ft\n",
        "2. km to miles\n",
        "3. USD to INR\n",
        "4. exit"
      ]
    },
    {
      "cell_type": "code",
      "execution_count": null,
      "metadata": {
        "id": "yBHhaCGQ2zpD"
      },
      "outputs": [],
      "source": [
        "# Write code here\n",
        "\n",
        "menu = input(\"\"\"\n",
        "Hi select ann option\n",
        "1. cms to ft\n",
        "2. km to miles\n",
        "3. USD to INR\n",
        "4. Exit\n",
        "\"\"\")\n",
        "\n",
        "if menu == '1':\n",
        "    cm = float(input('Enter the cm value : '))\n",
        "    print('ft value is : ', 0.032*cm)\n",
        "elif menu == '2':\n",
        "    km = float(input('Enter the km value : '))\n",
        "    print('miles value is : ',km*0.62)\n",
        "elif menu == '3':\n",
        "    USD = float(input('Enter USD : '))\n",
        "    print('INR : ',USd*80)\n",
        "else:\n",
        "    exit()"
      ]
    },
    {
      "cell_type": "markdown",
      "metadata": {
        "id": "LJJ30_Yw27ZU"
      },
      "source": [
        "### `Problem 5` - Exercise 12: Display Fibonacci series up to 10 terms.\n",
        "\n",
        "*Note: The Fibonacci Sequence is a series of numbers. The next number is found by adding up the two numbers before it. The first two numbers are 0 and 1. For example, 0, 1, 1, 2, 3, 5, 8, 13, 21. The next number in this series above is 13+21 = 34*"
      ]
    },
    {
      "cell_type": "code",
      "execution_count": null,
      "metadata": {
        "id": "ae_1rpe52-5R"
      },
      "outputs": [],
      "source": [
        "# Write code here\n",
        "\n",
        "num1,num2 = 0,1\n",
        "\n",
        "for i in range(10):\n",
        "    print(num1)\n",
        "\n",
        "    next = num1 + num2\n",
        "\n",
        "    num1 = num2\n",
        "    num2 = next"
      ]
    },
    {
      "cell_type": "markdown",
      "metadata": {
        "id": "pk_I_S4m3PT5"
      },
      "source": [
        "### `Problem 6` - Find the factorial of a given number.\n",
        "\n",
        "Write a program to use the loop to find the factorial of a given number.\n",
        "\n",
        "The factorial (symbol: `!`) means to multiply all whole numbers from the chosen number down to 1.\n",
        "\n",
        "For example: calculate the factorial of 5\n",
        "\n",
        "```bash\n",
        "5! = 5 × 4 × 3 × 2 × 1 = 120\n",
        "```\n",
        "\n",
        "Output:\n",
        "\n",
        "```bash\n",
        "120\n",
        "```"
      ]
    },
    {
      "cell_type": "code",
      "execution_count": null,
      "metadata": {
        "id": "lzXxHegx3Rkc"
      },
      "outputs": [],
      "source": [
        "# Write code here\n",
        "\n",
        "num = int(input('Enter the number : '))\n",
        "\n",
        "fact = 1\n",
        "for i in range(1,num+1):\n",
        "    fact = fact*i\n",
        "\n",
        "print(fact)"
      ]
    },
    {
      "cell_type": "markdown",
      "metadata": {
        "id": "-17IOi-g3UpU"
      },
      "source": [
        "### `Problem 7` - Reverse a given integer number.\n",
        "\n",
        "Example:\n",
        "\n",
        "`Input:`\n",
        "\n",
        "```bash\n",
        "76542\n",
        "```\n",
        "\n",
        "`Output:`\n",
        "\n",
        "```bash\n",
        "24567\n",
        "```"
      ]
    },
    {
      "cell_type": "code",
      "execution_count": null,
      "metadata": {
        "id": "wJwLpKCr3aVA"
      },
      "outputs": [],
      "source": [
        "# Write code here\n",
        "\n",
        "number = int(input('Enter the number : '))\n",
        "\n",
        "rev = 0\n",
        "\n",
        "while number > 0:\n",
        "    last = number % 10\n",
        "    rev = rev * 10 + last \n",
        "    number = number//10\n",
        "\n",
        "print(rev)"
      ]
    },
    {
      "cell_type": "markdown",
      "metadata": {
        "id": "-t8PJQaY3sHf"
      },
      "source": [
        "### `Problem 8`: Take a user input as integer N. Find out the sum from 1 to N. If any number if divisible by 5, then skip that number. And if the sum is greater than 300, don't need to calculate the sum further more. Print the final result. And don't use for loop to solve this problem.\n",
        "\n",
        "**Example 1:**\n",
        "\n",
        "`Input:`\n",
        "\n",
        "```bash\n",
        "30\n",
        "```\n",
        "\n",
        "`Output:`\n",
        "\n",
        "```bash\n",
        "276\n",
        "```"
      ]
    },
    {
      "cell_type": "code",
      "execution_count": null,
      "metadata": {
        "id": "GZB6mGMP3ujT"
      },
      "outputs": [],
      "source": [
        "# Write code here\n",
        "\n",
        "N = int(input('Enter the number : '))\n",
        "sum = 0\n",
        "\n",
        "i = 1\n",
        "\n",
        "while i < N + 1:\n",
        "    if i % 5 == 0:\n",
        "        i += 1 \n",
        "        continue\n",
        "\n",
        "    sum += i\n",
        "\n",
        "    if sum > 300:\n",
        "        sum = sum - i\n",
        "        break\n",
        "\n",
        "    i += 1\n",
        "\n",
        "print(sum)"
      ]
    },
    {
      "cell_type": "markdown",
      "metadata": {
        "id": "Q7ggImeA3xm4"
      },
      "source": [
        "### `Problem 9`: Write a program that keeps on accepting a number from the user until the user enters Zero. Display the sum and average of all the numbers."
      ]
    },
    {
      "cell_type": "code",
      "execution_count": null,
      "metadata": {
        "id": "t_YDSZDe4Kdo"
      },
      "outputs": [],
      "source": [
        "# Write code here\n",
        "\n",
        "sum = 0\n",
        "count = 0\n",
        "\n",
        "while True:\n",
        "    num = int(input('Enter the number : '))\n",
        "    if num == 0:\n",
        "        break\n",
        "    sum = sum + num\n",
        "    count = count + 1\n",
        "\n",
        "print('Sum',sum)\n",
        "print('Avg',sum/count)"
      ]
    },
    {
      "cell_type": "markdown",
      "metadata": {
        "id": "6EhvEMvm4R7s"
      },
      "source": [
        "###`Problem 9`: Write a program which will find all such numbers which are divisible by 7 but are not a multiple of 5, between 2000 and 3200 (both included). The numbers obtained should be printed in a comma-separated sequence on a single line."
      ]
    },
    {
      "cell_type": "code",
      "execution_count": null,
      "metadata": {
        "id": "d6RgP1B34T6c"
      },
      "outputs": [],
      "source": [
        "# Write code here\n",
        "\n",
        "L = []\n",
        "for i in range(2000,3201):\n",
        "    if i % 7 == 0 and i % 5 != 0:\n",
        "        L.append(str(i))\n",
        "\n",
        "print(\",\".join(L))"
      ]
    },
    {
      "cell_type": "markdown",
      "metadata": {
        "id": "tYvmRR-G4Vp4"
      },
      "source": [
        "###`Problem 10`: Write a program, which will find all such numbers between 1000 and 3000 (both included) such that each digit of the number is an even number. The numbers obtained should be printed in a space-separated sequence on a single line.\n",
        "\n"
      ]
    },
    {
      "cell_type": "code",
      "execution_count": null,
      "metadata": {
        "id": "k6Gs1kIf4k19"
      },
      "outputs": [],
      "source": [
        "# Write code here\n",
        "\n",
        "L = []\n",
        "for i in range(1000,3001):\n",
        "    flag = True\n",
        "\n",
        "    curr = i \n",
        " \n",
        "    while curr > 0:\n",
        "        last = curr % 10\n",
        "        if last  % 2 != 0:\n",
        "            flag = False\n",
        "            break\n",
        "        curr = curr//10\n",
        "\n",
        "    if flag == True:\n",
        "        L.append(str(i))\n",
        "\n",
        "    print(\",\".join(L))"
      ]
    },
    {
      "cell_type": "markdown",
      "metadata": {
        "id": "GV18IINT4mf5"
      },
      "source": [
        "###`Problem 11`: A robot moves in a plane starting from the original point (0,0). The robot can move toward UP, DOWN, LEFT and RIGHT with a given steps.\n",
        "The trace of robot movement is shown as the following:\n",
        "```\n",
        "UP 5\n",
        "DOWN 3\n",
        "LEFT 3\n",
        "RIGHT 2\n",
        "!\n",
        "```\n",
        "> The numbers after the direction are steps.\n",
        "\n",
        "> `!` means robot stop there.\n",
        "\n",
        "**Please write a program to compute the distance from current position after a sequence of movement and original point.**\n",
        "\n",
        "*If the distance is a float, then just print the nearest integer.*\n",
        "\n",
        "Example:\n",
        "\n",
        "`Input`:\n",
        "```\n",
        "UP 5\n",
        "DOWN 3\n",
        "LEFT 3\n",
        "RIGHT 2\n",
        "!\n",
        "```\n",
        "`Output`:\n",
        "```\n",
        "2\n",
        "```"
      ]
    },
    {
      "cell_type": "code",
      "execution_count": null,
      "metadata": {
        "id": "6UNMC2aR4w5x"
      },
      "outputs": [],
      "source": [
        "# Write code here\n",
        "\n",
        "pos = [0,0]\n",
        "while True:\n",
        "    s = input('Enter the robot path : ')\n",
        "    if s == '!':\n",
        "        break\n",
        "    direction = s.split()[0]\n",
        "    steps = int(s.split()[1])\n",
        "\n",
        "    if direction == 'UP':\n",
        "        pos[1] = pos[1] + steps\n",
        "    elif direction == 'DOWN':\n",
        "        pos[1] = pos[1] - steps\n",
        "    elif direction == 'LEFT':\n",
        "        pos[0] = pos[0] - steps\n",
        "    elif direction == 'RIGHT':\n",
        "        pos[0] = pos[0] + steps\n",
        "    else:\n",
        "        pass\n",
        "\n",
        "print('New pos',pos)\n",
        "print((pos[0]**2 + pos[1]**2)**0.5)"
      ]
    },
    {
      "cell_type": "markdown",
      "metadata": {
        "id": "3fsAIAhK5GYY"
      },
      "source": [
        "###`Problem 12`:Write a program to print whether a given number is a prime number or not"
      ]
    },
    {
      "cell_type": "code",
      "execution_count": null,
      "metadata": {
        "id": "j6y91lxy5LZs"
      },
      "outputs": [],
      "source": [
        "# Write code here\n",
        "\n",
        "num = int(input('Enter the number : '))\n",
        "\n",
        "flag = True\n",
        "for i in range(2,num):\n",
        "    if num % i == 0:\n",
        "        flag = False\n",
        "        break\n",
        "\n",
        "if flag == True:\n",
        "    print('Prime')\n",
        "else:\n",
        "    print('Not prime')"
      ]
    },
    {
      "cell_type": "markdown",
      "metadata": {
        "id": "asAbmbK-5NHv"
      },
      "source": [
        "###`Problem 13`:Print all the Armstrong numbers in a given range.\n",
        "Range will be provided by the user<br>\n",
        "Armstrong number is a number that is equal to the sum of cubes of its digits. For example 0, 1, 153, 370, 371 and 407 are the Armstrong numbers."
      ]
    },
    {
      "cell_type": "code",
      "execution_count": null,
      "metadata": {
        "id": "PZuI67pm5jCT"
      },
      "outputs": [],
      "source": [
        "# Write code here\n",
        "\n",
        "start = int(input('Enter the starting range : '))\n",
        "end = int(input('Enter the ending number : '))\n",
        "\n",
        "print(f'Armstrong between {start} and {end} are : ')\n",
        "\n",
        "for num in range(start, end + 1):\n",
        "    sum_of_cubes = 0\n",
        "    temp = num\n",
        "    \n",
        "    while temp > 0:\n",
        "        digit = temp % 10\n",
        "        sum_of_cubes += digit ** 3\n",
        "        temp //= 10\n",
        "    if sum_of_cubes == num:\n",
        "        print(num)"
      ]
    },
    {
      "cell_type": "markdown",
      "metadata": {
        "id": "ClCQZMqT7gK0"
      },
      "source": [
        "###`Problem 14`:Calculate the angle between the hour hand and minute hand.\n",
        "\n",
        "Note: There can be two angles between hands; we need to print a minimum of two. Also, we need to print the floor of the final result angle. For example, if the final angle is 10.61, we need to print 10.\n",
        "\n",
        "Input:<br>\n",
        "H = 9 , M = 0<br>\n",
        "Output:<br>\n",
        "90<br>\n",
        "Explanation:<br>\n",
        "The minimum angle between hour and minute\n",
        "hand when the time is 9 is 90 degress."
      ]
    },
    {
      "cell_type": "code",
      "execution_count": null,
      "metadata": {
        "id": "tNBTCZML7jy_"
      },
      "outputs": [],
      "source": [
        "# Write code here\n",
        "\n",
        "H = int(input(\"Enter hour (0-11): \"))\n",
        "M = int(input(\"Enter minutes (0-59): \"))\n",
        "\n",
        "minute_angle = M * 6\n",
        "hour_angle = H * 30 + M * 0.5\n",
        "\n",
        "angle = abs(hour_angle - minute_angle)\n",
        "min_angle = min(angle, 360 - angle)\n",
        "\n",
        "print(int(min_angle))"
      ]
    },
    {
      "cell_type": "markdown",
      "metadata": {
        "id": "GwacF9Co72Qc"
      },
      "source": [
        "###`Problem 15`:Given two rectangles, find if the given two rectangles overlap or not. A rectangle is denoted by providing the x and y coordinates of two points: the left top corner and the right bottom corner of the rectangle. Two rectangles sharing a side are considered overlapping. (L1 and R1 are the extreme points of the first rectangle and L2 and R2 are the extreme points of the second rectangle).\n",
        "\n",
        "Note: It may be assumed that the rectangles are parallel to the coordinate axis.\n",
        "\n",
        "<img src='https://www.geeksforgeeks.org/wp-content/uploads/rectanglesOverlap.png' width='300' height='200'>"
      ]
    },
    {
      "cell_type": "code",
      "execution_count": null,
      "metadata": {
        "id": "6rrw_lpH78Rs"
      },
      "outputs": [],
      "source": [
        "# Write code here\n",
        "\n",
        "def is_overlapping(L1, R1, L2, R2):\n",
        "\n",
        "    if R1[0] < L2[0] or R2[0] < L1[0]:\n",
        "        return False\n",
        "    \n",
        "    if R1[1] > L2[1] or R2[1] > L1[1]:\n",
        "        return False\n",
        "    \n",
        "    return True\n",
        "\n",
        "L1 = (0, 10)\n",
        "R1 = (10, 0)\n",
        "L2 = (5, 5)\n",
        "R2 = (15, 0)\n",
        "\n",
        "if is_overlapping(L1, R1, L2, R2):\n",
        "    print(\"Rectangles Overlap\")\n",
        "else:\n",
        "    print(\"Rectangles Do Not Overlap\")"
      ]
    }
  ],
  "metadata": {
    "colab": {
      "provenance": []
    },
    "kernelspec": {
      "display_name": "Python 3",
      "name": "python3"
    },
    "language_info": {
      "codemirror_mode": {
        "name": "ipython",
        "version": 3
      },
      "file_extension": ".py",
      "mimetype": "text/x-python",
      "name": "python",
      "nbconvert_exporter": "python",
      "pygments_lexer": "ipython3",
      "version": "3.13.3"
    }
  },
  "nbformat": 4,
  "nbformat_minor": 0
}
